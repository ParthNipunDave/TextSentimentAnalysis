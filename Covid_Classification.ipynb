{
  "nbformat": 4,
  "nbformat_minor": 0,
  "metadata": {
    "colab": {
      "name": "Covid Classification",
      "provenance": []
    },
    "kernelspec": {
      "name": "python3",
      "display_name": "Python 3"
    },
    "language_info": {
      "name": "python"
    },
    "accelerator": "GPU"
  },
  "cells": [
    {
      "cell_type": "code",
      "metadata": {
        "colab": {
          "base_uri": "https://localhost:8080/"
        },
        "id": "7puXoHLXh2Pu",
        "outputId": "b57a98b0-ee9e-4842-e281-616cd940ab9c"
      },
      "source": [
        "from google.colab import drive\n",
        "drive.mount('/content/drive')"
      ],
      "execution_count": 3,
      "outputs": [
        {
          "output_type": "stream",
          "text": [
            "Mounted at /content/drive\n"
          ],
          "name": "stdout"
        }
      ]
    },
    {
      "cell_type": "markdown",
      "metadata": {
        "id": "9y7t-wNHjlJt"
      },
      "source": [
        "### Introduction\n",
        "Covid-19 as we know is deadly virus, and it affects our lungs. The idea behind this project is to classify whether or not patient have covid based on x-ray image passed."
      ]
    },
    {
      "cell_type": "markdown",
      "metadata": {
        "id": "OZqR1RozmUFe"
      },
      "source": [
        "### Importing Libraries\n",
        "Let's begin with 0. Let's import all neccessary libraies"
      ]
    },
    {
      "cell_type": "code",
      "metadata": {
        "id": "GzcALrt2glTX"
      },
      "source": [
        "import pandas as pd\n",
        "import numpy as np\n",
        "from keras.preprocessing.image import ImageDataGenerator\n",
        "from tensorflow.keras.applications import ResNet50\n",
        "from tensorflow.python.keras.models import Sequential\n",
        "from tensorflow.python.keras.layers import Dense, Flatten, GlobalAveragePooling2D\n",
        "from tensorflow.keras.applications import ResNet50\n",
        "import tensorflow as tf\n",
        "import matplotlib.pyplot as plt"
      ],
      "execution_count": 4,
      "outputs": []
    },
    {
      "cell_type": "markdown",
      "metadata": {
        "id": "H8r9Igrcm2X9"
      },
      "source": [
        "### Reading Data\n",
        "Let's import csv files which have name of files and labels."
      ]
    },
    {
      "cell_type": "code",
      "metadata": {
        "colab": {
          "base_uri": "https://localhost:8080/",
          "height": 419
        },
        "id": "1sjoZb3Fkr2x",
        "outputId": "92993b93-52c0-4c94-944f-2a6080387a9a"
      },
      "source": [
        "train_data=pd.read_csv(\"/content/drive/MyDrive/Colab Notebooks/covid_image_data/Training_set_covid.csv\")\n",
        "train_data"
      ],
      "execution_count": 5,
      "outputs": [
        {
          "output_type": "execute_result",
          "data": {
            "text/html": [
              "<div>\n",
              "<style scoped>\n",
              "    .dataframe tbody tr th:only-of-type {\n",
              "        vertical-align: middle;\n",
              "    }\n",
              "\n",
              "    .dataframe tbody tr th {\n",
              "        vertical-align: top;\n",
              "    }\n",
              "\n",
              "    .dataframe thead th {\n",
              "        text-align: right;\n",
              "    }\n",
              "</style>\n",
              "<table border=\"1\" class=\"dataframe\">\n",
              "  <thead>\n",
              "    <tr style=\"text-align: right;\">\n",
              "      <th></th>\n",
              "      <th>filename</th>\n",
              "      <th>label</th>\n",
              "    </tr>\n",
              "  </thead>\n",
              "  <tbody>\n",
              "    <tr>\n",
              "      <th>0</th>\n",
              "      <td>Image_1.jpg</td>\n",
              "      <td>1</td>\n",
              "    </tr>\n",
              "    <tr>\n",
              "      <th>1</th>\n",
              "      <td>Image_2.jpg</td>\n",
              "      <td>0</td>\n",
              "    </tr>\n",
              "    <tr>\n",
              "      <th>2</th>\n",
              "      <td>Image_3.jpg</td>\n",
              "      <td>0</td>\n",
              "    </tr>\n",
              "    <tr>\n",
              "      <th>3</th>\n",
              "      <td>Image_4.jpg</td>\n",
              "      <td>0</td>\n",
              "    </tr>\n",
              "    <tr>\n",
              "      <th>4</th>\n",
              "      <td>Image_5.jpg</td>\n",
              "      <td>0</td>\n",
              "    </tr>\n",
              "    <tr>\n",
              "      <th>...</th>\n",
              "      <td>...</td>\n",
              "      <td>...</td>\n",
              "    </tr>\n",
              "    <tr>\n",
              "      <th>3474</th>\n",
              "      <td>Image_3475.jpg</td>\n",
              "      <td>0</td>\n",
              "    </tr>\n",
              "    <tr>\n",
              "      <th>3475</th>\n",
              "      <td>Image_3476.jpg</td>\n",
              "      <td>0</td>\n",
              "    </tr>\n",
              "    <tr>\n",
              "      <th>3476</th>\n",
              "      <td>Image_3477.jpg</td>\n",
              "      <td>0</td>\n",
              "    </tr>\n",
              "    <tr>\n",
              "      <th>3477</th>\n",
              "      <td>Image_3478.jpg</td>\n",
              "      <td>1</td>\n",
              "    </tr>\n",
              "    <tr>\n",
              "      <th>3478</th>\n",
              "      <td>Image_3479.jpg</td>\n",
              "      <td>0</td>\n",
              "    </tr>\n",
              "  </tbody>\n",
              "</table>\n",
              "<p>3479 rows × 2 columns</p>\n",
              "</div>"
            ],
            "text/plain": [
              "            filename  label\n",
              "0        Image_1.jpg      1\n",
              "1        Image_2.jpg      0\n",
              "2        Image_3.jpg      0\n",
              "3        Image_4.jpg      0\n",
              "4        Image_5.jpg      0\n",
              "...              ...    ...\n",
              "3474  Image_3475.jpg      0\n",
              "3475  Image_3476.jpg      0\n",
              "3476  Image_3477.jpg      0\n",
              "3477  Image_3478.jpg      1\n",
              "3478  Image_3479.jpg      0\n",
              "\n",
              "[3479 rows x 2 columns]"
            ]
          },
          "metadata": {
            "tags": []
          },
          "execution_count": 5
        }
      ]
    },
    {
      "cell_type": "markdown",
      "metadata": {
        "id": "RFdpZwVjoGEP"
      },
      "source": [
        "### Adding filepath\n",
        "Our dataset dont have path to image files. So here, we are adding 1 column filepath where we concat file name with path to directory where image is store."
      ]
    },
    {
      "cell_type": "code",
      "metadata": {
        "colab": {
          "base_uri": "https://localhost:8080/",
          "height": 419
        },
        "id": "5xeyigC9k1wo",
        "outputId": "94fa267f-afda-45c2-b5f7-12127c44fbba"
      },
      "source": [
        "train_data[\"filepath\"]=\"/content/drive/MyDrive/Colab Notebooks/covid_image_data/train/\"+train_data[\"filename\"]\n",
        "train_data"
      ],
      "execution_count": 7,
      "outputs": [
        {
          "output_type": "execute_result",
          "data": {
            "text/html": [
              "<div>\n",
              "<style scoped>\n",
              "    .dataframe tbody tr th:only-of-type {\n",
              "        vertical-align: middle;\n",
              "    }\n",
              "\n",
              "    .dataframe tbody tr th {\n",
              "        vertical-align: top;\n",
              "    }\n",
              "\n",
              "    .dataframe thead th {\n",
              "        text-align: right;\n",
              "    }\n",
              "</style>\n",
              "<table border=\"1\" class=\"dataframe\">\n",
              "  <thead>\n",
              "    <tr style=\"text-align: right;\">\n",
              "      <th></th>\n",
              "      <th>filename</th>\n",
              "      <th>label</th>\n",
              "      <th>filepath</th>\n",
              "    </tr>\n",
              "  </thead>\n",
              "  <tbody>\n",
              "    <tr>\n",
              "      <th>0</th>\n",
              "      <td>Image_1.jpg</td>\n",
              "      <td>1</td>\n",
              "      <td>/content/drive/MyDrive/Colab Notebooks/covid_i...</td>\n",
              "    </tr>\n",
              "    <tr>\n",
              "      <th>1</th>\n",
              "      <td>Image_2.jpg</td>\n",
              "      <td>0</td>\n",
              "      <td>/content/drive/MyDrive/Colab Notebooks/covid_i...</td>\n",
              "    </tr>\n",
              "    <tr>\n",
              "      <th>2</th>\n",
              "      <td>Image_3.jpg</td>\n",
              "      <td>0</td>\n",
              "      <td>/content/drive/MyDrive/Colab Notebooks/covid_i...</td>\n",
              "    </tr>\n",
              "    <tr>\n",
              "      <th>3</th>\n",
              "      <td>Image_4.jpg</td>\n",
              "      <td>0</td>\n",
              "      <td>/content/drive/MyDrive/Colab Notebooks/covid_i...</td>\n",
              "    </tr>\n",
              "    <tr>\n",
              "      <th>4</th>\n",
              "      <td>Image_5.jpg</td>\n",
              "      <td>0</td>\n",
              "      <td>/content/drive/MyDrive/Colab Notebooks/covid_i...</td>\n",
              "    </tr>\n",
              "    <tr>\n",
              "      <th>...</th>\n",
              "      <td>...</td>\n",
              "      <td>...</td>\n",
              "      <td>...</td>\n",
              "    </tr>\n",
              "    <tr>\n",
              "      <th>3474</th>\n",
              "      <td>Image_3475.jpg</td>\n",
              "      <td>0</td>\n",
              "      <td>/content/drive/MyDrive/Colab Notebooks/covid_i...</td>\n",
              "    </tr>\n",
              "    <tr>\n",
              "      <th>3475</th>\n",
              "      <td>Image_3476.jpg</td>\n",
              "      <td>0</td>\n",
              "      <td>/content/drive/MyDrive/Colab Notebooks/covid_i...</td>\n",
              "    </tr>\n",
              "    <tr>\n",
              "      <th>3476</th>\n",
              "      <td>Image_3477.jpg</td>\n",
              "      <td>0</td>\n",
              "      <td>/content/drive/MyDrive/Colab Notebooks/covid_i...</td>\n",
              "    </tr>\n",
              "    <tr>\n",
              "      <th>3477</th>\n",
              "      <td>Image_3478.jpg</td>\n",
              "      <td>1</td>\n",
              "      <td>/content/drive/MyDrive/Colab Notebooks/covid_i...</td>\n",
              "    </tr>\n",
              "    <tr>\n",
              "      <th>3478</th>\n",
              "      <td>Image_3479.jpg</td>\n",
              "      <td>0</td>\n",
              "      <td>/content/drive/MyDrive/Colab Notebooks/covid_i...</td>\n",
              "    </tr>\n",
              "  </tbody>\n",
              "</table>\n",
              "<p>3479 rows × 3 columns</p>\n",
              "</div>"
            ],
            "text/plain": [
              "            filename  label                                           filepath\n",
              "0        Image_1.jpg      1  /content/drive/MyDrive/Colab Notebooks/covid_i...\n",
              "1        Image_2.jpg      0  /content/drive/MyDrive/Colab Notebooks/covid_i...\n",
              "2        Image_3.jpg      0  /content/drive/MyDrive/Colab Notebooks/covid_i...\n",
              "3        Image_4.jpg      0  /content/drive/MyDrive/Colab Notebooks/covid_i...\n",
              "4        Image_5.jpg      0  /content/drive/MyDrive/Colab Notebooks/covid_i...\n",
              "...              ...    ...                                                ...\n",
              "3474  Image_3475.jpg      0  /content/drive/MyDrive/Colab Notebooks/covid_i...\n",
              "3475  Image_3476.jpg      0  /content/drive/MyDrive/Colab Notebooks/covid_i...\n",
              "3476  Image_3477.jpg      0  /content/drive/MyDrive/Colab Notebooks/covid_i...\n",
              "3477  Image_3478.jpg      1  /content/drive/MyDrive/Colab Notebooks/covid_i...\n",
              "3478  Image_3479.jpg      0  /content/drive/MyDrive/Colab Notebooks/covid_i...\n",
              "\n",
              "[3479 rows x 3 columns]"
            ]
          },
          "metadata": {
            "tags": []
          },
          "execution_count": 7
        }
      ]
    },
    {
      "cell_type": "markdown",
      "metadata": {
        "id": "2un7FWHJpogO"
      },
      "source": [
        " ### Data Augmentation\n",
        " Since we have very less data, I am augmenting my data and also creating a variable where training and validation image will be stored"
      ]
    },
    {
      "cell_type": "code",
      "metadata": {
        "id": "1CvhgrT4lv2A"
      },
      "source": [
        "train_datagen=ImageDataGenerator(validation_split=0.2,zoom_range=0.2,rescale=1./255.,horizontal_flip=True)"
      ],
      "execution_count": 10,
      "outputs": []
    },
    {
      "cell_type": "code",
      "metadata": {
        "id": "SAOLHYL3oMXz"
      },
      "source": [
        "train_data[\"label\"]=train_data[\"label\"].astype(str)"
      ],
      "execution_count": 11,
      "outputs": []
    },
    {
      "cell_type": "code",
      "metadata": {
        "colab": {
          "base_uri": "https://localhost:8080/"
        },
        "id": "lMm0pMFKmQ_2",
        "outputId": "00fa58f6-6c5f-4cbd-9072-0fb401f6ebd4"
      },
      "source": [
        "train_images=train_datagen.flow_from_dataframe(train_data,x_col=\"filepath\",batch_size=8,target_size=(255,255),class_mode=\"binary\",shuffle=True,subset='training',y_col=\"label\")\n",
        "valid_images=train_datagen.flow_from_dataframe(train_data,x_col=\"filepath\",batch_size=8,target_size=(255,255),class_mode=\"binary\",shuffle=True,subset='validation',y_col=\"label\")"
      ],
      "execution_count": 23,
      "outputs": [
        {
          "output_type": "stream",
          "text": [
            "Found 2784 validated image filenames belonging to 2 classes.\n",
            "Found 695 validated image filenames belonging to 2 classes.\n"
          ],
          "name": "stdout"
        }
      ]
    },
    {
      "cell_type": "markdown",
      "metadata": {
        "id": "gMGWdg7BsD_A"
      },
      "source": [
        "### Importing ResNet50\n",
        "Let's import ResNet50 and initialize our base_model."
      ]
    },
    {
      "cell_type": "code",
      "metadata": {
        "id": "vWvpxVQAonmm"
      },
      "source": [
        "base_model = ResNet50(input_shape=(225, 225,3), include_top=False, weights=\"imagenet\")"
      ],
      "execution_count": 25,
      "outputs": []
    },
    {
      "cell_type": "markdown",
      "metadata": {
        "id": "_WZLGZCcsb3S"
      },
      "source": [
        "Making all layers Non-Trainable so that we wont affect it's actual weight and just train last layers and add number of classes we want to train in output layer."
      ]
    },
    {
      "cell_type": "code",
      "metadata": {
        "id": "Ijphfga4pMCD"
      },
      "source": [
        "for layer in base_model.layers:\n",
        "    layer.trainable = False"
      ],
      "execution_count": 26,
      "outputs": []
    },
    {
      "cell_type": "code",
      "metadata": {
        "id": "3yUzQcvKpOyw"
      },
      "source": [
        "base_model = Sequential()\n",
        "base_model.add(ResNet50(include_top=False, weights='imagenet', pooling='max'))\n",
        "base_model.add(Dense(1, activation='sigmoid'))"
      ],
      "execution_count": 27,
      "outputs": []
    },
    {
      "cell_type": "code",
      "metadata": {
        "id": "OFtLEjavpUWk"
      },
      "source": [
        "base_model.compile(optimizer = tf.keras.optimizers.SGD(lr=0.0001), loss = 'binary_crossentropy', metrics = ['acc'])"
      ],
      "execution_count": 28,
      "outputs": []
    },
    {
      "cell_type": "code",
      "metadata": {
        "colab": {
          "base_uri": "https://localhost:8080/"
        },
        "id": "GhE9HQ82vXKv",
        "outputId": "3a021507-0eea-46a2-cc24-357e9ac1746a"
      },
      "source": [
        "base_model.summary()"
      ],
      "execution_count": 29,
      "outputs": [
        {
          "output_type": "stream",
          "text": [
            "Model: \"sequential_1\"\n",
            "_________________________________________________________________\n",
            "Layer (type)                 Output Shape              Param #   \n",
            "=================================================================\n",
            "resnet50 (Functional)        (None, 2048)              23587712  \n",
            "_________________________________________________________________\n",
            "dense_1 (Dense)              (None, 1)                 2049      \n",
            "=================================================================\n",
            "Total params: 23,589,761\n",
            "Trainable params: 23,536,641\n",
            "Non-trainable params: 53,120\n",
            "_________________________________________________________________\n"
          ],
          "name": "stdout"
        }
      ]
    },
    {
      "cell_type": "code",
      "metadata": {
        "colab": {
          "base_uri": "https://localhost:8080/"
        },
        "id": "X1HIPc3YpYmA",
        "outputId": "79831d1b-c599-47e6-9999-d56ba41f6683"
      },
      "source": [
        "resnet_history = base_model.fit(train_images, validation_data = valid_images, steps_per_epoch =int(train_images.n/8), epochs = 20)"
      ],
      "execution_count": 30,
      "outputs": [
        {
          "output_type": "stream",
          "text": [
            "Epoch 1/20\n",
            "348/348 [==============================] - 162s 453ms/step - loss: 0.7703 - acc: 0.8588 - val_loss: 1.2608 - val_acc: 0.8791\n",
            "Epoch 2/20\n",
            "348/348 [==============================] - 84s 242ms/step - loss: 0.3550 - acc: 0.9198 - val_loss: 2.8488 - val_acc: 0.4518\n",
            "Epoch 3/20\n",
            "348/348 [==============================] - 84s 241ms/step - loss: 0.3501 - acc: 0.9229 - val_loss: 1.0196 - val_acc: 0.7007\n",
            "Epoch 4/20\n",
            "348/348 [==============================] - 84s 241ms/step - loss: 0.3151 - acc: 0.9207 - val_loss: 0.5498 - val_acc: 0.8633\n",
            "Epoch 5/20\n",
            "348/348 [==============================] - 85s 245ms/step - loss: 0.2376 - acc: 0.9281 - val_loss: 0.4247 - val_acc: 0.9094\n",
            "Epoch 6/20\n",
            "348/348 [==============================] - 86s 246ms/step - loss: 0.2273 - acc: 0.9248 - val_loss: 0.3911 - val_acc: 0.8978\n",
            "Epoch 7/20\n",
            "348/348 [==============================] - 86s 248ms/step - loss: 0.2166 - acc: 0.9319 - val_loss: 0.2936 - val_acc: 0.9295\n",
            "Epoch 8/20\n",
            "348/348 [==============================] - 87s 251ms/step - loss: 0.2016 - acc: 0.9389 - val_loss: 0.3025 - val_acc: 0.9281\n",
            "Epoch 9/20\n",
            "348/348 [==============================] - 87s 249ms/step - loss: 0.1557 - acc: 0.9516 - val_loss: 0.2762 - val_acc: 0.9281\n",
            "Epoch 10/20\n",
            "348/348 [==============================] - 85s 243ms/step - loss: 0.1802 - acc: 0.9418 - val_loss: 0.3382 - val_acc: 0.9353\n",
            "Epoch 11/20\n",
            "348/348 [==============================] - 84s 242ms/step - loss: 0.1430 - acc: 0.9586 - val_loss: 0.3222 - val_acc: 0.9324\n",
            "Epoch 12/20\n",
            "348/348 [==============================] - 85s 243ms/step - loss: 0.0977 - acc: 0.9695 - val_loss: 0.2110 - val_acc: 0.9410\n",
            "Epoch 13/20\n",
            "348/348 [==============================] - 85s 245ms/step - loss: 0.1227 - acc: 0.9572 - val_loss: 0.2738 - val_acc: 0.9281\n",
            "Epoch 14/20\n",
            "348/348 [==============================] - 86s 246ms/step - loss: 0.1396 - acc: 0.9558 - val_loss: 0.2508 - val_acc: 0.9439\n",
            "Epoch 15/20\n",
            "348/348 [==============================] - 86s 247ms/step - loss: 0.1173 - acc: 0.9578 - val_loss: 0.2025 - val_acc: 0.9381\n",
            "Epoch 16/20\n",
            "348/348 [==============================] - 86s 246ms/step - loss: 0.1038 - acc: 0.9604 - val_loss: 0.2658 - val_acc: 0.9439\n",
            "Epoch 17/20\n",
            "348/348 [==============================] - 86s 247ms/step - loss: 0.0881 - acc: 0.9707 - val_loss: 0.2997 - val_acc: 0.9309\n",
            "Epoch 18/20\n",
            "348/348 [==============================] - 87s 249ms/step - loss: 0.1036 - acc: 0.9627 - val_loss: 0.2527 - val_acc: 0.9367\n",
            "Epoch 19/20\n",
            "348/348 [==============================] - 87s 251ms/step - loss: 0.0848 - acc: 0.9736 - val_loss: 0.2461 - val_acc: 0.9439\n",
            "Epoch 20/20\n",
            "348/348 [==============================] - 87s 250ms/step - loss: 0.0742 - acc: 0.9736 - val_loss: 0.2483 - val_acc: 0.9439\n"
          ],
          "name": "stdout"
        }
      ]
    },
    {
      "cell_type": "markdown",
      "metadata": {
        "id": "3pXUNh2XtDKS"
      },
      "source": [
        "### Conclusion\n",
        "Our Model is trained optimally. Below is graphical representation of its training and validation accuracy and loss"
      ]
    },
    {
      "cell_type": "code",
      "metadata": {
        "colab": {
          "base_uri": "https://localhost:8080/",
          "height": 298
        },
        "id": "-D-uC8bMqjgp",
        "outputId": "8b76c52c-d65c-4a33-9d14-8aef33a1ed65"
      },
      "source": [
        "plt.plot(resnet_history.history[\"acc\"],label=\"train\")\n",
        "plt.plot(resnet_history.history[\"val_acc\"],label=\"val\")\n",
        "plt.title(\"Training Accuracy and Validation Accuracy\")\n",
        "plt.legend()"
      ],
      "execution_count": 32,
      "outputs": [
        {
          "output_type": "execute_result",
          "data": {
            "text/plain": [
              "<matplotlib.legend.Legend at 0x7f0f2450bb10>"
            ]
          },
          "metadata": {
            "tags": []
          },
          "execution_count": 32
        },
        {
          "output_type": "display_data",
          "data": {
            "image/png": "[encoded data removed]",
            "text/plain": [
              "<Figure size 432x288 with 1 Axes>"
            ]
          },
          "metadata": {
            "tags": [],
            "needs_background": "light"
          }
        }
      ]
    },
    {
      "cell_type": "code",
      "metadata": {
        "colab": {
          "base_uri": "https://localhost:8080/",
          "height": 298
        },
        "id": "-IEuybpwzxkN",
        "outputId": "916ad4e2-910f-432b-c734-4f10b67180e8"
      },
      "source": [
        "plt.plot(resnet_history.history[\"loss\"],label=\"train\")\n",
        "plt.plot(resnet_history.history[\"val_loss\"],label=\"val\")\n",
        "plt.title(\"Training Loss and Validation Loss\")\n",
        "plt.legend()"
      ],
      "execution_count": 33,
      "outputs": [
        {
          "output_type": "execute_result",
          "data": {
            "text/plain": [
              "<matplotlib.legend.Legend at 0x7f0f2406b110>"
            ]
          },
          "metadata": {
            "tags": []
          },
          "execution_count": 33
        },
        {
          "output_type": "display_data",
          "data": {
            "image/png": "[encoded data removed]",
            "text/plain": [
              "<Figure size 432x288 with 1 Axes>"
            ]
          },
          "metadata": {
            "tags": [],
            "needs_background": "light"
          }
        }
      ]
    },
    {
      "cell_type": "code",
      "metadata": {
        "id": "ynKSjBJb1Sfx"
      },
      "source": [
        ""
      ],
      "execution_count": 55,
      "outputs": []
    },
    {
      "cell_type": "code",
      "metadata": {
        "id": "VPa7SnRU_f5B"
      },
      "source": [
        ""
      ],
      "execution_count": null,
      "outputs": []
    }
  ]
}